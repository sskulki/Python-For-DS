{
 "cells": [
  {
   "cell_type": "markdown",
   "metadata": {},
   "source": [
    "## Importing and Using Modules\n",
    "A module is a single file of Python code, often containing functions and variables related to a particular programming task.\n",
    "\n",
    "Accessing functions in a module requires first importing the module for use in the current Python environment. Two different ways to do this."
   ]
  },
  {
   "cell_type": "code",
   "execution_count": 1,
   "metadata": {},
   "outputs": [],
   "source": [
    "# Approach 1: Import a whole module\n",
    "import sys"
   ]
  },
  {
   "cell_type": "code",
   "execution_count": 2,
   "metadata": {},
   "outputs": [],
   "source": [
    "# Approach 2: Import a subset of functionality from a module\n",
    "from sys import exit"
   ]
  },
  {
   "cell_type": "markdown",
   "metadata": {},
   "source": [
    "If we have imported an entire module, we can access the functions or variables in the module by prefixing their names with the module name followed by a dot (i.e. dot notation)."
   ]
  },
  {
   "cell_type": "code",
   "execution_count": 3,
   "metadata": {},
   "outputs": [
    {
     "data": {
      "text/plain": [
       "'3.6.5 |Anaconda, Inc.| (default, Apr 26 2018, 08:42:37) \\n[GCC 4.2.1 Compatible Clang 4.0.1 (tags/RELEASE_401/final)]'"
      ]
     },
     "execution_count": 3,
     "metadata": {},
     "output_type": "execute_result"
    }
   ],
   "source": [
    "# What version of Python are we running here?\n",
    "sys.version"
   ]
  },
  {
   "cell_type": "markdown",
   "metadata": {},
   "source": [
    "### Basic Mathematical Functions\n",
    "Python has a built-in math module that provides most basic mathematical functions."
   ]
  },
  {
   "cell_type": "code",
   "execution_count": 7,
   "metadata": {},
   "outputs": [],
   "source": [
    "import math as m"
   ]
  },
  {
   "cell_type": "markdown",
   "metadata": {},
   "source": [
    "Once we have imported the entire module, we can call any functions within the module by prefixing them with math."
   ]
  },
  {
   "cell_type": "code",
   "execution_count": 8,
   "metadata": {},
   "outputs": [
    {
     "data": {
      "text/plain": [
       "5.0"
      ]
     },
     "execution_count": 8,
     "metadata": {},
     "output_type": "execute_result"
    }
   ],
   "source": [
    "m.sqrt(25)"
   ]
  },
  {
   "cell_type": "code",
   "execution_count": 10,
   "metadata": {},
   "outputs": [
    {
     "name": "stdout",
     "output_type": "stream",
     "text": [
      "89\n",
      "90\n",
      "Help on built-in function floor in module math:\n",
      "\n",
      "floor(...)\n",
      "    floor(x)\n",
      "    \n",
      "    Return the floor of x as an Integral.\n",
      "    This is the largest integer <= x.\n",
      "\n"
     ]
    }
   ],
   "source": [
    "# Fractional number.\n",
    "n = 89.734\n",
    "# Round down\n",
    "print(m.floor(n))\n",
    "# Round up\n",
    "print(m.ceil(n))\n",
    "help(m.floor)"
   ]
  },
  {
   "cell_type": "markdown",
   "metadata": {},
   "source": [
    "We can calculate exponents and logarithms:"
   ]
  },
  {
   "cell_type": "code",
   "execution_count": 12,
   "metadata": {},
   "outputs": [
    {
     "name": "stdout",
     "output_type": "stream",
     "text": [
      "Cube of 2 is 8\n",
      "Cube of 4 is 64\n",
      "Cube of 6 is 216\n",
      "Cube of 8 is 512\n",
      "Cube of 10 is 1000\n"
     ]
    }
   ],
   "source": [
    "for x in range(2,11,2):\n",
    "    # raise x to the power of 3\n",
    "    cube = m.pow( x, 3 )\n",
    "    print( \"Cube of %d is %d\" % ( x, cube ) )"
   ]
  },
  {
   "cell_type": "code",
   "execution_count": 14,
   "metadata": {},
   "outputs": [
    {
     "name": "stdout",
     "output_type": "stream",
     "text": [
      "For 2\tlog2=1.000 log10=0.301\n",
      "For 4\tlog2=2.000 log10=0.602\n",
      "For 6\tlog2=2.585 log10=0.778\n",
      "For 8\tlog2=3.000 log10=0.903\n",
      "For 10\tlog2=3.322 log10=1.000\n"
     ]
    }
   ],
   "source": [
    "for x in range(2,11,2):\n",
    "    log2value = m.log2( x )\n",
    "    log10value = m.log10( x )\n",
    "    print( \"For %d\\tlog2=%.3f log10=%.3f\" % ( x, log2value, log10value ) )"
   ]
  },
  {
   "cell_type": "markdown",
   "metadata": {},
   "source": [
    "Standard trigonometrical functions are also implemented in the module. They take radian values as inputs, rather than degrees."
   ]
  },
  {
   "cell_type": "code",
   "execution_count": 19,
   "metadata": {},
   "outputs": [
    {
     "name": "stdout",
     "output_type": "stream",
     "text": [
      "0 degrees\t(0.000 radians)\t sin=0.000\tcos=1.000\n",
      "30 degrees\t(0.524 radians)\t sin=0.500\tcos=0.866\n",
      "60 degrees\t(1.047 radians)\t sin=0.866\tcos=0.500\n",
      "90 degrees\t(1.571 radians)\t sin=1.000\tcos=0.000\n",
      "120 degrees\t(2.094 radians)\t sin=0.866\tcos=-0.500\n",
      "150 degrees\t(2.618 radians)\t sin=0.500\tcos=-0.866\n",
      "180 degrees\t(3.142 radians)\t sin=0.000\tcos=-1.000\n",
      "210 degrees\t(3.665 radians)\t sin=-0.500\tcos=-0.866\n",
      "240 degrees\t(4.189 radians)\t sin=-0.866\tcos=-0.500\n",
      "270 degrees\t(4.712 radians)\t sin=-1.000\tcos=-0.000\n",
      "300 degrees\t(5.236 radians)\t sin=-0.866\tcos=0.500\n",
      "330 degrees\t(5.760 radians)\t sin=-0.500\tcos=0.866\n",
      "360 degrees\t(6.283 radians)\t sin=-0.000\tcos=1.000\n",
      "Help on built-in function radians in module math:\n",
      "\n",
      "radians(...)\n",
      "    radians(x)\n",
      "    \n",
      "    Convert angle x from degrees to radians.\n",
      "\n"
     ]
    }
   ],
   "source": [
    "for deg in range(0, 361, 30):\n",
    "    # need to convert degrees to radians\n",
    "    rad = m.radians(deg)\n",
    "    sinvalue = m.sin(rad)\n",
    "    cosvalue = m.cos(rad)\n",
    "    print( \"%d degrees\\t(%.3f radians)\\t sin=%.3f\\tcos=%.3f\" % ( deg, rad, sinvalue, cosvalue ) )\n",
    "help(m.radians)"
   ]
  },
  {
   "cell_type": "markdown",
   "metadata": {},
   "source": [
    "Many math operations depend on special constants, which are variables in the math module:"
   ]
  },
  {
   "cell_type": "code",
   "execution_count": 21,
   "metadata": {},
   "outputs": [
    {
     "name": "stdout",
     "output_type": "stream",
     "text": [
      "pi: 3.1415926536\n",
      "e:  2.7182818285\n"
     ]
    }
   ],
   "source": [
    "print ('pi: %.10f' % m.pi )\n",
    "print ('e:  %.10f' % m.e )"
   ]
  },
  {
   "cell_type": "markdown",
   "metadata": {},
   "source": [
    "### Random Number Generation\n",
    "The random module provides functions that generate pseudorandom numbers - i.e. not truly random because they are generated by a deterministic computation, but are generally indistinguishable from them."
   ]
  },
  {
   "cell_type": "code",
   "execution_count": 22,
   "metadata": {},
   "outputs": [],
   "source": [
    "import random"
   ]
  },
  {
   "cell_type": "markdown",
   "metadata": {},
   "source": [
    "The function random() returns a random float between 0.0 and 1.0. Each time we call it, we get the next number from a series."
   ]
  },
  {
   "cell_type": "code",
   "execution_count": 24,
   "metadata": {},
   "outputs": [
    {
     "name": "stdout",
     "output_type": "stream",
     "text": [
      "0.5274188331189661\n",
      "0.40859132898098294\n",
      "0.09820795915225267\n",
      "0.6682869926938676\n",
      "0.09092727722765359\n"
     ]
    }
   ],
   "source": [
    "for i in range(5):\n",
    "    print( random.random() )"
   ]
  },
  {
   "cell_type": "markdown",
   "metadata": {},
   "source": [
    "To return a random float in a specified range, use the uniform() function:"
   ]
  },
  {
   "cell_type": "code",
   "execution_count": 25,
   "metadata": {},
   "outputs": [
    {
     "name": "stdout",
     "output_type": "stream",
     "text": [
      "2.338300098708539\n",
      "1.3987653268288869\n",
      "2.260654642365252\n",
      "4.273797184881671\n",
      "5.890632227350066\n"
     ]
    }
   ],
   "source": [
    "for i in range(5):\n",
    "    # Return a value N, where 0 <= N <= 10\n",
    "    print( random.uniform(0,10) )"
   ]
  },
  {
   "cell_type": "markdown",
   "metadata": {},
   "source": [
    "The function randint() returns a random integer from the specified range:"
   ]
  },
  {
   "cell_type": "code",
   "execution_count": 26,
   "metadata": {},
   "outputs": [
    {
     "name": "stdout",
     "output_type": "stream",
     "text": [
      "44\n",
      "14\n",
      "44\n",
      "64\n",
      "2\n",
      "99\n",
      "75\n",
      "41\n",
      "2\n",
      "40\n"
     ]
    }
   ],
   "source": [
    "for i in range(10):\n",
    "    print( random.randint(1,100) )"
   ]
  },
  {
   "cell_type": "markdown",
   "metadata": {},
   "source": [
    "The function choice() randomly chooses a value from a list, with replacement:"
   ]
  },
  {
   "cell_type": "code",
   "execution_count": 27,
   "metadata": {},
   "outputs": [
    {
     "name": "stdout",
     "output_type": "stream",
     "text": [
      "Slovakia\n",
      "Slovakia\n",
      "France\n",
      "Slovakia\n"
     ]
    }
   ],
   "source": [
    "countries = [\"Ireland\",\"Slovakia\",\"France\",\"Spain\",\"Sweden\",\"Germany\",\"Italy\",\"Greece\"]\n",
    "for i in range( 4 ):\n",
    "    print( random.choice(countries) )"
   ]
  },
  {
   "cell_type": "markdown",
   "metadata": {},
   "source": [
    "We can also randomly shuffle a list in place (i.e modify the original list):"
   ]
  },
  {
   "cell_type": "code",
   "execution_count": 28,
   "metadata": {},
   "outputs": [
    {
     "name": "stdout",
     "output_type": "stream",
     "text": [
      "['Germany', 'France', 'Spain', 'Ireland', 'Sweden', 'Greece', 'Slovakia', 'Italy']\n",
      "['France', 'Spain', 'Ireland', 'Germany', 'Sweden', 'Italy', 'Greece', 'Slovakia']\n"
     ]
    }
   ],
   "source": [
    "random.shuffle( countries )\n",
    "print( countries )\n",
    "# shuffle again\n",
    "random.shuffle( countries )\n",
    "print( countries )"
   ]
  },
  {
   "cell_type": "markdown",
   "metadata": {},
   "source": [
    "If we want to randomly choose a subset of a list, we can call the sample() function:"
   ]
  },
  {
   "cell_type": "code",
   "execution_count": 29,
   "metadata": {},
   "outputs": [
    {
     "name": "stdout",
     "output_type": "stream",
     "text": [
      "['France', 'Spain', 'Slovakia']\n",
      "['Ireland', 'Germany', 'Greece']\n"
     ]
    }
   ],
   "source": [
    "# randomly select 3 values\n",
    "sublist1 = random.sample(countries,3)\n",
    "print(sublist1)\n",
    "# randomly select another 3 values\n",
    "sublist2 = random.sample(countries,3)\n",
    "print(sublist2)"
   ]
  },
  {
   "cell_type": "markdown",
   "metadata": {},
   "source": [
    "### File and Directory Operations\n",
    "The built-in os module provides comprehensive functionality for working with files and directories:"
   ]
  },
  {
   "cell_type": "code",
   "execution_count": 30,
   "metadata": {},
   "outputs": [],
   "source": [
    "import os"
   ]
  },
  {
   "cell_type": "code",
   "execution_count": 31,
   "metadata": {},
   "outputs": [
    {
     "data": {
      "text/plain": [
       "'/Users/shridhar'"
      ]
     },
     "execution_count": 31,
     "metadata": {},
     "output_type": "execute_result"
    }
   ],
   "source": [
    "# What is the current working directory?\n",
    "os.getcwd()"
   ]
  },
  {
   "cell_type": "markdown",
   "metadata": {},
   "source": [
    "For instance, we can get a list of files in the specified directory. If we do not specify a directory, by default it will list the files in the current directory."
   ]
  },
  {
   "cell_type": "code",
   "execution_count": 32,
   "metadata": {},
   "outputs": [
    {
     "data": {
      "text/plain": [
       "['train_4.csv',\n",
       " '08 - Exception Handling.ipynb',\n",
       " 'England Tourism _plot.jpeg',\n",
       " '.Rhistory',\n",
       " '.Tableau',\n",
       " 'Music',\n",
       " '.bash_profile-anaconda.bak',\n",
       " '.condarc',\n",
       " 'MultipleLinearRegression',\n",
       " '.RapidMiner',\n",
       " 'ADULT_USI_FE_CATEGORICAL.csv',\n",
       " 'Untitled1.ipynb',\n",
       " 'UCI_Adult_logistic_Studies.R',\n",
       " '.DS_Store',\n",
       " '.httr-oauth',\n",
       " 'VirtualBox VMs',\n",
       " '.CFUserTextEncoding',\n",
       " '05 - Functions.ipynb',\n",
       " '.QtWebEngineProcess',\n",
       " '.subversion',\n",
       " 'Untitled.ipynb',\n",
       " '09 - Importing and Using Modules.ipynb',\n",
       " 'results.RData',\n",
       " 'simple.csv',\n",
       " 'Sentimental analysis updated.R',\n",
       " 'Pictures',\n",
       " '.pylint.d',\n",
       " 'Ensemble_training.R',\n",
       " 'ADULT_USI_FE_Numerical.csv',\n",
       " 'Untitled2.ipynb',\n",
       " '.ipython',\n",
       " 'Desktop',\n",
       " '03 - Data Structures.ipynb',\n",
       " 'Library',\n",
       " '.matplotlib',\n",
       " '07 - File Input and Output.ipynb',\n",
       " 'NaiveBayesTheorem.R',\n",
       " '.oracle_jre_usage',\n",
       " '.spyder-py3',\n",
       " 'dst.png',\n",
       " 'Rplot.png',\n",
       " 'titanticData.RData',\n",
       " '02 - Python Basics.ipynb',\n",
       " '.bash_sessions',\n",
       " 'x17153581kp.pem',\n",
       " 'PycharmProjects',\n",
       " 'Public',\n",
       " 'Scores.csv',\n",
       " '.bash_profile-anaconda3.bak',\n",
       " '.gitignore',\n",
       " '.idlerc',\n",
       " '.RData',\n",
       " '.anaconda',\n",
       " '.ssh',\n",
       " 'Movies',\n",
       " 'Applications',\n",
       " '.Rapp.history',\n",
       " '.Trash',\n",
       " 'cacert.pem',\n",
       " '.ipynb_checkpoints',\n",
       " 'ADULT_USI_FE_CATEGORICAL_nobinning.csv',\n",
       " '.jupyter',\n",
       " 'Documents',\n",
       " 'SVM_Class.R',\n",
       " 'Titanic_women.R',\n",
       " '.rstudio-desktop',\n",
       " '06 - Python Strings.ipynb',\n",
       " '.vscode',\n",
       " '.spss',\n",
       " '.bash_profile',\n",
       " '.Xauthority',\n",
       " 'anaconda3',\n",
       " 'my_ca_dataset.csv',\n",
       " 'Downloads',\n",
       " '.continuum',\n",
       " '.cache',\n",
       " 'Rplot01_lm.png',\n",
       " 'Clustering.R',\n",
       " '04 - Flow Control.ipynb',\n",
       " '.defaults-0.1.0.ini',\n",
       " '.bash_history',\n",
       " 'data.txt',\n",
       " '.conda']"
      ]
     },
     "execution_count": 32,
     "metadata": {},
     "output_type": "execute_result"
    }
   ],
   "source": [
    "os.listdir()"
   ]
  },
  {
   "cell_type": "markdown",
   "metadata": {},
   "source": [
    "For a full list of built-in modules and the functions/variables they contain, see: https://docs.python.org/3/library/"
   ]
  },
  {
   "cell_type": "code",
   "execution_count": null,
   "metadata": {},
   "outputs": [],
   "source": []
  }
 ],
 "metadata": {
  "kernelspec": {
   "display_name": "Python 3",
   "language": "python",
   "name": "python3"
  },
  "language_info": {
   "codemirror_mode": {
    "name": "ipython",
    "version": 3
   },
   "file_extension": ".py",
   "mimetype": "text/x-python",
   "name": "python",
   "nbconvert_exporter": "python",
   "pygments_lexer": "ipython3",
   "version": "3.6.5"
  }
 },
 "nbformat": 4,
 "nbformat_minor": 2
}
